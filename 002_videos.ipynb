{
 "cells": [
  {
   "cell_type": "code",
   "execution_count": 13,
   "metadata": {},
   "outputs": [],
   "source": [
    "# Required imports\n",
    "import numpy as np\n",
    "import cv2 as cv"
   ]
  },
  {
   "cell_type": "code",
   "execution_count": 3,
   "metadata": {},
   "outputs": [],
   "source": [
    "## Start webcam \n",
    "# NOTE: won't work in server hosted notebooks\n",
    "\n",
    "# Get the webcam\n",
    "cap = cv.VideoCapture(0)\n",
    "\n",
    "# Looping over all captured frames\n",
    "while True:\n",
    "    # Capture frame\n",
    "    # ret - True or False depending on the presence of frame\n",
    "    # frame - the next frame\n",
    "    ret, frame = cap.read()\n",
    "    \n",
    "    # Perform operations on the frame\n",
    "    frame = cv.cvtColor(frame, cv.COLOR_BGR2GRAY)\n",
    "    \n",
    "    # Display the resulting frame\n",
    "    cv.imshow('Image', frame)\n",
    "    \n",
    "    # Close the window if certain key is pressed\n",
    "    if cv.waitKey(1) & 0xFF == ord('q'):\n",
    "        break\n",
    "        \n",
    "# When the process is complete, release the capture\n",
    "cap.release()\n",
    "cv.destroyAllWindows()"
   ]
  },
  {
   "cell_type": "code",
   "execution_count": 12,
   "metadata": {},
   "outputs": [],
   "source": [
    "## Playing video from file\n",
    "\n",
    "# Get the video source\n",
    "cap = cv.VideoCapture(\"/home/arunava/Downloads/tyr/Spiderwick Chronicles_Evolutionnet.info.avi\")\n",
    "\n",
    "# Looping over all the frames\n",
    "while cap.isOpened():\n",
    "    # Capture frame\n",
    "    ret, frame = cap.read()\n",
    "    \n",
    "    # Perform operations on the frame\n",
    "    frame = frame\n",
    "    \n",
    "    # Display the resulting frame\n",
    "    cv.imshow('Image', frame)\n",
    "    \n",
    "    # Close the window if certain key is pressed\n",
    "    if cv.waitKey(1) & 0xFF == ord('q'):\n",
    "        break\n",
    "        \n",
    "# When the process is complete, release the capture\n",
    "cap.release()\n",
    "cv.destroyAllWindows()"
   ]
  },
  {
   "cell_type": "code",
   "execution_count": null,
   "metadata": {},
   "outputs": [],
   "source": [
    "## Writing a video\n",
    "\n",
    "# Get the video source\n",
    "cap = cv.VideoCapture('/home/arunava/Downloads/tyr/Spiderwick Chronicles_Evolutionnet.info.avi')\n",
    "\n",
    "# Define the codec and create VideoWriter object\n",
    "# fourcc is  a 4-byte code to specify the video codec\n",
    "# Fedora - DIVX, XVID, MJPG, X264, WMV1, WMV2\n",
    "# Windows - DVIX\n",
    "fourcc = cv.VideoWriter_fourcc(*'XVID')\n",
    "out = cv.VideoWriter('output.avi', fourcc, 20.0, (640, 480))\n",
    "\n",
    "# Looping over all the frames\n",
    "while cap.isOpened():\n",
    "    # Getting the frame\n",
    "    ret, frame = cap.read()\n",
    "    \n",
    "    # Operations on the frame\n",
    "    if ret:\n",
    "        frame = cv.cvtColor(frame, cv.COLOR_BGR2HSV)\n",
    "        \n",
    "    # Write the modified frame\n",
    "    out.write(frame)\n",
    "    \n",
    "    \n",
    "    # Show the frame\n",
    "    cv.imshow('frame', frame)\n",
    "    \n",
    "    # Stop if certain key is pressed\n",
    "    if cv.waitKey(1) & 0xFF == ord('q'):\n",
    "        break\n",
    "        \n",
    "# Release resources\n",
    "cap.release()\n",
    "out.release()\n",
    "cv.destroyAllWindows()"
   ]
  },
  {
   "cell_type": "code",
   "execution_count": null,
   "metadata": {},
   "outputs": [],
   "source": []
  }
 ],
 "metadata": {
  "kernelspec": {
   "display_name": "Python 3",
   "language": "python",
   "name": "python3"
  },
  "language_info": {
   "codemirror_mode": {
    "name": "ipython",
    "version": 3
   },
   "file_extension": ".py",
   "mimetype": "text/x-python",
   "name": "python",
   "nbconvert_exporter": "python",
   "pygments_lexer": "ipython3",
   "version": "3.6.7"
  }
 },
 "nbformat": 4,
 "nbformat_minor": 2
}
